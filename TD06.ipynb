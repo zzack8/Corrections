{
 "cells": [
  {
   "cell_type": "raw",
   "id": "b3a94f1b",
   "metadata": {},
   "source": [
    "(i)\tLa fonction s(n) renvoie la somme des n premiers nombres\n",
    "(ii)\tLa fonction p(n) renvoie True si l’argument n est pair et False s’il est impair\n",
    "(iii)\tLa fonction u(n) renvoie la valeur pour n de la suite mathématique : Un = 3 Un-1 + 2 avec U0=1\n",
    "(iv)\tLa fonction t(L) renvoie le nombre d’éléments dans la liste L passée en argument\n",
    "(v)\tLa fonction r(L) renvoie une liste inversée par rapport à la liste L passée en argument\n"
   ]
  },
  {
   "cell_type": "raw",
   "id": "a0a9e53e",
   "metadata": {},
   "source": [
    "2°) La fonction récursive p(n,i) ci-dessous est sensée calculer la puissance i-ème de p. Ce code contient cependant une erreur. Identifiez la, et proposez une version correcte de la fonction p(n,i) \n",
    "def p(n, i):\n",
    "    if (n == 0): return 1\n",
    "    else : return n*p(n, i-1)"
   ]
  },
  {
   "cell_type": "code",
   "execution_count": 5,
   "id": "79b3154b",
   "metadata": {},
   "outputs": [
    {
     "data": {
      "text/plain": [
       "64"
      ]
     },
     "execution_count": 5,
     "metadata": {},
     "output_type": "execute_result"
    }
   ],
   "source": [
    "def p(n, i):\n",
    "    if (i==0): return 1\n",
    "    else : return n*p(n, i-1)\n",
    "p(4,3)"
   ]
  },
  {
   "cell_type": "raw",
   "id": "b338ffa0",
   "metadata": {},
   "source": [
    "3°) La fonction insere(e, L, i) ci-dessous est sensée insérer l’élément e à l i-ème place dans la liste L. Ce code contient cependant deux erreurs. Identifiez les, et proposez une version correcte de la fonction insere(e, L, i)\n",
    "\n",
    "def insere(e, L, i):\n",
    "    if (i==1) : return [e]+L\n",
    "    else : return L[0]+insere(e,L[1:],i-1)"
   ]
  },
  {
   "cell_type": "code",
   "execution_count": 9,
   "id": "8f4ff1bd",
   "metadata": {},
   "outputs": [
    {
     "data": {
      "text/plain": [
       "[1, 1, 3, 1, 1, 1]"
      ]
     },
     "execution_count": 9,
     "metadata": {},
     "output_type": "execute_result"
    }
   ],
   "source": [
    "def insere(e, L, i):\n",
    "    if (i==0) : return [e]+L\n",
    "    else : return [L[0]]+insere(e,L[1:],i-1)\n",
    "insere(3,[1,1,1,1,1],2)"
   ]
  },
  {
   "cell_type": "raw",
   "id": "4f839235",
   "metadata": {},
   "source": [
    "4°) L’objectif de cette fonction est de comprendre la fonction applique(f, L) dont le code vous est donné ci-dessous\n",
    "\n",
    "def applique(f, L):\n",
    "    if (L==[]): return []\n",
    "    else : return [f(L[0])]+applique(f,L[1:])\n",
    "\n",
    "(i)\tCodez une fonction plusun(e) qui renvoie e+1, et testez applique(plusun, [1, 2, 3, 4]). Qu’a fait la fonction applique ?\n",
    "(ii)\tProgrammez un fonction pair(e) qui renvoie True si e est paire et appliquez la à la liste [1, 4, 2, 4, 10, 11, 0, 12]\n"
   ]
  },
  {
   "cell_type": "code",
   "execution_count": 3,
   "id": "cf14bdd1",
   "metadata": {},
   "outputs": [],
   "source": [
    "def plusun(e):\n",
    "    return e + 1"
   ]
  },
  {
   "cell_type": "code",
   "execution_count": 4,
   "id": "57b151b9",
   "metadata": {},
   "outputs": [],
   "source": [
    "\n",
    "def applique(f, L):\n",
    "    if (L==[]): return []\n",
    "    else : return [f(L[0])]+applique(f,L[1:])\n"
   ]
  },
  {
   "cell_type": "code",
   "execution_count": 5,
   "id": "fb7bde85",
   "metadata": {},
   "outputs": [
    {
     "data": {
      "text/plain": [
       "[2, 3, 4, 5]"
      ]
     },
     "execution_count": 5,
     "metadata": {},
     "output_type": "execute_result"
    }
   ],
   "source": [
    "applique(plusun, [1, 2, 3, 4])"
   ]
  },
  {
   "cell_type": "code",
   "execution_count": 9,
   "id": "8a716b88",
   "metadata": {},
   "outputs": [],
   "source": [
    "def pair(e):\n",
    "    return e % 2 == 0"
   ]
  },
  {
   "cell_type": "code",
   "execution_count": 12,
   "id": "a7e3714b",
   "metadata": {},
   "outputs": [
    {
     "data": {
      "text/plain": [
       "[False, True, True, True, True, False, True, True]"
      ]
     },
     "execution_count": 12,
     "metadata": {},
     "output_type": "execute_result"
    }
   ],
   "source": [
    "applique(pair, [1, 4, 2, 4, 10, 11, 0, 12])"
   ]
  },
  {
   "cell_type": "raw",
   "id": "cd93b4a2",
   "metadata": {},
   "source": [
    "5°) Afin de répondre à la question « si une horloge indique 10 heures, qu'indiquait-elle 200 heures avant ? », proposez une fonction récursive modulo(n, m) qui renvoie la valeur du plus petit reste positif de la division entière de n par m. Par exemple modulo(12,5) doit renvoyer 2"
   ]
  },
  {
   "cell_type": "code",
   "execution_count": 14,
   "id": "0d81b9ed",
   "metadata": {},
   "outputs": [],
   "source": [
    "def modulo(n, m):\n",
    "    if (n<m): return n\n",
    "    else : return modulo(n-m, m)"
   ]
  },
  {
   "cell_type": "code",
   "execution_count": 15,
   "id": "21705a56",
   "metadata": {},
   "outputs": [
    {
     "data": {
      "text/plain": [
       "2"
      ]
     },
     "execution_count": 15,
     "metadata": {},
     "output_type": "execute_result"
    }
   ],
   "source": [
    "modulo(12,5) "
   ]
  },
  {
   "cell_type": "raw",
   "id": "5166de3b",
   "metadata": {},
   "source": [
    "6°) Dans les années 1920, Wilhelm Ackermann et Gabriel Sudan, alors étudiants sous la direction de David Hilbert, étudiaient les fondements de la calculabilité. Sudan est le premier à donner un exemple de fonction récursive :\n",
    " \n",
    "\n",
    "Codez la fonction de Sudan F(n, x, y)\n",
    "\n",
    "Tester votre fonction au moyen des tableaux de valeurs proposés par https://fr.wikipedia.org/wiki/Fonction_de_Sudan\n"
   ]
  },
  {
   "cell_type": "code",
   "execution_count": 16,
   "id": "b920c6ec",
   "metadata": {},
   "outputs": [],
   "source": [
    "def F(n, x, y):\n",
    "    if (n==0) : return x+y\n",
    "    elif (y==0) : return x\n",
    "    else : return F(n-1,F(n,x,y-1),F(n,x,y-1)+y)\n"
   ]
  },
  {
   "cell_type": "code",
   "execution_count": null,
   "id": "cd5d88a4",
   "metadata": {},
   "outputs": [],
   "source": []
  }
 ],
 "metadata": {
  "kernelspec": {
   "display_name": "Python 3",
   "language": "python",
   "name": "python3"
  },
  "language_info": {
   "codemirror_mode": {
    "name": "ipython",
    "version": 3
   },
   "file_extension": ".py",
   "mimetype": "text/x-python",
   "name": "python",
   "nbconvert_exporter": "python",
   "pygments_lexer": "ipython3",
   "version": "3.8.8"
  }
 },
 "nbformat": 4,
 "nbformat_minor": 5
}
