{
 "cells": [
  {
   "cell_type": "markdown",
   "id": "374e2169",
   "metadata": {},
   "source": [
    "# TD06"
   ]
  },
  {
   "cell_type": "raw",
   "id": "b3a94f1b",
   "metadata": {},
   "source": [
    "(i)\tLa fonction s(n) renvoie la somme des n premiers nombres\n",
    "(ii)\tLa fonction p(n) renvoie True si l’argument n est pair et False s’il est impair\n",
    "(iii)\tLa fonction u(n) renvoie la valeur pour n de la suite mathématique : Un = 3 Un-1 + 2 avec U0=1\n",
    "(iv)\tLa fonction t(L) renvoie le nombre d’éléments dans la liste L passée en argument\n",
    "(v)\tLa fonction r(L) renvoie une liste inversée par rapport à la liste L passée en argument\n"
   ]
  },
  {
   "cell_type": "raw",
   "id": "a0a9e53e",
   "metadata": {},
   "source": [
    "2°) La fonction récursive p(n,i) ci-dessous est sensée calculer la puissance i-ème de p. Ce code contient cependant une erreur. Identifiez la, et proposez une version correcte de la fonction p(n,i) \n",
    "def p(n, i):\n",
    "    if (n == 0): return 1\n",
    "    else : return n*p(n, i-1)"
   ]
  },
  {
   "cell_type": "code",
   "execution_count": 17,
   "id": "79b3154b",
   "metadata": {},
   "outputs": [
    {
     "data": {
      "text/plain": [
       "64"
      ]
     },
     "execution_count": 17,
     "metadata": {},
     "output_type": "execute_result"
    }
   ],
   "source": [
    "\"\"\"\n",
    "L’erreur est le test d’arrêt de la fonction p (n==0). La définition récursive de la fonction puissance est ni = n * ni-1, \n",
    "avec n0=1. Le test devrait porter sur la valeur de i, et non pas sur la valeur de n. En l’occurrence,\n",
    "la fonction risque de s’exécuter à l’infini. Le code correct est donc : \n",
    "\"\"\"\n",
    "def p(n, i):\n",
    "    if (i==0): return 1\n",
    "    else : return n*p(n, i-1)\n",
    "p(4,3)"
   ]
  },
  {
   "cell_type": "raw",
   "id": "b338ffa0",
   "metadata": {},
   "source": [
    "3°) La fonction insere(e, L, i) ci-dessous est sensée insérer l’élément e à l i-ème place dans la liste L. Ce code contient cependant deux erreurs. Identifiez les, et proposez une version correcte de la fonction insere(e, L, i)\n",
    "\n",
    "def insere(e, L, i):\n",
    "    if (i==1) : return [e]+L\n",
    "    else : return L[0]+insere(e,L[1:],i-1)"
   ]
  },
  {
   "cell_type": "code",
   "execution_count": 9,
   "id": "8f4ff1bd",
   "metadata": {},
   "outputs": [
    {
     "data": {
      "text/plain": [
       "[1, 1, 3, 1, 1, 1]"
      ]
     },
     "execution_count": 9,
     "metadata": {},
     "output_type": "execute_result"
    }
   ],
   "source": [
    "\"\"\"\"\n",
    "la première erreur vient de la condition d’arrêt (i==1) ; à cause de cette erreur, on ne peut pas insérer l’élément e en place 0\n",
    ", et par ailleurs, dans le cas général, il est inséré à la place i-1 au lieu de i.\n",
    "La seconde erreur vient de la valeur retournée L[0]+insere(e,L[1:],i-1) dans laquelle on essaie de concaténer un élément à \n",
    "une liste (alors qu’on ne peut que concaténer des listes).\n",
    "\"\"\"\"\n",
    "\n",
    "def insere(e, L, i):\n",
    "    if (i==0) : return [e]+L\n",
    "    else : return [L[0]]+insere(e,L[1:],i-1)\n",
    "insere(3,[1,1,1,1,1],2)"
   ]
  },
  {
   "cell_type": "raw",
   "id": "4f839235",
   "metadata": {},
   "source": [
    "4°) L’objectif de cette fonction est de comprendre la fonction applique(f, L) dont le code vous est donné ci-dessous\n",
    "\n",
    "def applique(f, L):\n",
    "    if (L==[]): return []\n",
    "    else : return [f(L[0])]+applique(f,L[1:])\n",
    "\n",
    "(i)\tCodez une fonction plusun(e) qui renvoie e+1, et testez applique(plusun, [1, 2, 3, 4]). Qu’a fait la fonction applique ?\n",
    "(ii)\tProgrammez un fonction pair(e) qui renvoie True si e est paire et appliquez la à la liste [1, 4, 2, 4, 10, 11, 0, 12]\n"
   ]
  },
  {
   "cell_type": "code",
   "execution_count": null,
   "id": "98349c92",
   "metadata": {},
   "outputs": [],
   "source": [
    "\"\"\"\n",
    "la fonction applique(f, L) renvoie une liste dans laquelle chaque élément est le résultat de l’application d’une fonction (dont le nom est identifié en premier argument) à chacun des éléments de la liste passée comme second argument\n",
    "applique(plusun, [1, 2, 3, 4]) doit renvoyer [2, 3, 4, 5]\n",
    "applique(pair, [1, 4, 2, 4, 10, 11, 0, 12] doit renvoyer [False, True, True, True, True, False, True, True]\n",
    "un exemple de fonction paire a été donné en (ii) du premier exercice\n",
    "\"\"\""
   ]
  },
  {
   "cell_type": "code",
   "execution_count": 3,
   "id": "cf14bdd1",
   "metadata": {},
   "outputs": [],
   "source": [
    "def plusun(e):\n",
    "    return e + 1"
   ]
  },
  {
   "cell_type": "code",
   "execution_count": 4,
   "id": "94374975",
   "metadata": {},
   "outputs": [],
   "source": [
    "\n",
    "def applique(f, L):\n",
    "    if (L==[]): return []\n",
    "    else : return [f(L[0])]+applique(f,L[1:])\n"
   ]
  },
  {
   "cell_type": "code",
   "execution_count": 5,
   "id": "cd107a03",
   "metadata": {},
   "outputs": [
    {
     "data": {
      "text/plain": [
       "[2, 3, 4, 5]"
      ]
     },
     "execution_count": 5,
     "metadata": {},
     "output_type": "execute_result"
    }
   ],
   "source": [
    "applique(plusun, [1, 2, 3, 4])"
   ]
  },
  {
   "cell_type": "code",
   "execution_count": 9,
   "id": "65249bcb",
   "metadata": {},
   "outputs": [],
   "source": [
    "def pair(e):\n",
    "    return e % 2 == 0"
   ]
  },
  {
   "cell_type": "code",
   "execution_count": 12,
   "id": "4d2b778a",
   "metadata": {},
   "outputs": [
    {
     "data": {
      "text/plain": [
       "[False, True, True, True, True, False, True, True]"
      ]
     },
     "execution_count": 12,
     "metadata": {},
     "output_type": "execute_result"
    }
   ],
   "source": [
    "applique(pair, [1, 4, 2, 4, 10, 11, 0, 12])"
   ]
  },
  {
   "cell_type": "raw",
   "id": "7ae81ae0",
   "metadata": {},
   "source": [
    "5°) Afin de répondre à la question « si une horloge indique 10 heures, qu'indiquait-elle 200 heures avant ? », proposez une fonction récursive modulo(n, m) qui renvoie la valeur du plus petit reste positif de la division entière de n par m. Par exemple modulo(12,5) doit renvoyer 2"
   ]
  },
  {
   "cell_type": "code",
   "execution_count": 14,
   "id": "c6036cfd",
   "metadata": {},
   "outputs": [],
   "source": [
    "\"\"\"modulo(200, 12) renvoie 8. Par conséquent s’il est 10h, il y a 200h il était 10-8 = 12h. \"\"\"\n",
    "def modulo(n, m):\n",
    "    if (n<m): return n\n",
    "    else : return modulo(n-m, m)"
   ]
  },
  {
   "cell_type": "code",
   "execution_count": 15,
   "id": "aece7f0a",
   "metadata": {},
   "outputs": [
    {
     "data": {
      "text/plain": [
       "2"
      ]
     },
     "execution_count": 15,
     "metadata": {},
     "output_type": "execute_result"
    }
   ],
   "source": [
    "modulo(12,5) "
   ]
  },
  {
   "cell_type": "raw",
   "id": "21072561",
   "metadata": {},
   "source": [
    "6°) Dans les années 1920, Wilhelm Ackermann et Gabriel Sudan, alors étudiants sous la direction de David Hilbert, étudiaient les fondements de la calculabilité. Sudan est le premier à donner un exemple de fonction récursive :\n",
    " \n",
    "\n",
    "Codez la fonction de Sudan F(n, x, y)\n",
    "\n",
    "Tester votre fonction au moyen des tableaux de valeurs proposés par https://fr.wikipedia.org/wiki/Fonction_de_Sudan\n"
   ]
  },
  {
   "cell_type": "code",
   "execution_count": 16,
   "id": "792f9715",
   "metadata": {},
   "outputs": [],
   "source": [
    "\"\"\"\n",
    "la difficulté est ici due à l’utilisation de n+1 et y+1 à gauche del’égalié dans la définition mathématique. \n",
    "Lorsqu’on code cette fonction, les arguments de F sont n, x, et y. Il convient donc de transposer.\n",
    "\"\"\"\n",
    "def F(n, x, y):\n",
    "    if (n==0) : return x+y\n",
    "    elif (y==0) : return x\n",
    "    else : return F(n-1,F(n,x,y-1),F(n,x,y-1)+y)\n"
   ]
  },
  {
   "cell_type": "code",
   "execution_count": null,
   "id": "54d2340f",
   "metadata": {},
   "outputs": [],
   "source": []
  }
 ],
 "metadata": {
  "kernelspec": {
   "display_name": "Python 3",
   "language": "python",
   "name": "python3"
  },
  "language_info": {
   "codemirror_mode": {
    "name": "ipython",
    "version": 3
   },
   "file_extension": ".py",
   "mimetype": "text/x-python",
   "name": "python",
   "nbconvert_exporter": "python",
   "pygments_lexer": "ipython3",
   "version": "3.8.8"
  }
 },
 "nbformat": 4,
 "nbformat_minor": 5
}
