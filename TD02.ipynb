{
 "cells": [
  {
   "cell_type": "markdown",
   "metadata": {},
   "source": [
    "#  Réponses TD02"
   ]
  },
  {
   "cell_type": "raw",
   "metadata": {},
   "source": [
    "1°) Expérimentation sans l’ordinateur : quel est le contenu des listes ci-dessous ? "
   ]
  },
  {
   "cell_type": "code",
   "execution_count": 5,
   "metadata": {},
   "outputs": [
    {
     "name": "stdout",
     "output_type": "stream",
     "text": [
      "[2, 4, 6, 2, 4, 6, 2, 4, 6]\n",
      "[0, 1, 2, 3, 4, 5, 6, 7, 8, 9]\n",
      "[[2, 4, 6, 2, 4, 6, 2, 4, 6], [0, 1, 2, 3, 4, 5, 6, 7, 8, 9]]\n",
      "[None, 12, 13, [], 9]\n",
      "[9, 10, 2, 5]\n",
      "[4, 0, 12]\n",
      "[False, False, True]\n",
      "[2, 3, 4, 5]\n",
      "[[2, 4, 6, 2, 4, 6, 2, 4, 6], [0, 1, 2, 3, 4, 5, 6, 7, 8, 9], [[2, 4, 6, 2, 4, 6, 2, 4, 6], [0, 1, 2, 3, 4, 5, 6, 7, 8, 9]], [None, 12, 13, [], 9], [9, 10, 2, 5], [4, 0, 12], [False, False, True], [2, 3, 4, 5]]\n"
     ]
    }
   ],
   "source": [
    "L1 = [2, 4, 6] *3\n",
    "print(L1)\n",
    "L2 = list(range(10))\n",
    "print(L2)\n",
    "L3 = [L1, L2]\n",
    "print(L3)\n",
    "L4 = [None, 12, 13, [], L2[-1]]\n",
    "print(L4)\n",
    "L5 = [len(L1), len(L2), len(L3), len(L4)]\n",
    "print(L5)\n",
    "L6 = [L1[4], L2[0], L4[1]]\n",
    "print(L6)\n",
    "L7 = [len(L1)==len(L2), L4[3]==L4[0], True]\n",
    "print(L7)\n",
    "L8 = L2[2:6]\n",
    "print(L8)\n",
    "L9 = [L1, L2, L3, L4, L5, L6, L7, L8]\n",
    "print(L9)"
   ]
  },
  {
   "cell_type": "raw",
   "metadata": {},
   "source": [
    "2°) Soit la liste"
   ]
  },
  {
   "cell_type": "code",
   "execution_count": 6,
   "metadata": {},
   "outputs": [],
   "source": [
    "l = [12, 42, 73, 1, 2, 0, 9, 21, 73, 4, 9]"
   ]
  },
  {
   "cell_type": "raw",
   "metadata": {},
   "source": [
    "(i) Que fait le programme ci-dessous ?"
   ]
  },
  {
   "cell_type": "code",
   "execution_count": 7,
   "metadata": {},
   "outputs": [
    {
     "name": "stdout",
     "output_type": "stream",
     "text": [
      "73\n"
     ]
    }
   ],
   "source": [
    "m = l[0]\n",
    "for i in range(len(l)):\n",
    "    if (l[i] > m) :\n",
    "        m = l[i]\n",
    "print(m)"
   ]
  },
  {
   "cell_type": "code",
   "execution_count": 11,
   "metadata": {},
   "outputs": [
    {
     "data": {
      "text/plain": [
       "73"
      ]
     },
     "execution_count": 11,
     "metadata": {},
     "output_type": "execute_result"
    }
   ],
   "source": [
    "#Cherche la plus grande valeur\n",
    "max(l)"
   ]
  },
  {
   "cell_type": "raw",
   "metadata": {},
   "source": [
    "(ii) Trouvez le plus petit élément de la liste L"
   ]
  },
  {
   "cell_type": "code",
   "execution_count": 15,
   "metadata": {},
   "outputs": [
    {
     "name": "stdout",
     "output_type": "stream",
     "text": [
      "0\n"
     ]
    }
   ],
   "source": [
    "m = l[0]\n",
    "for i in range(len(l)):\n",
    "    if (l[i] < m) :\n",
    "        m = l[i]\n",
    "print(m)"
   ]
  },
  {
   "cell_type": "code",
   "execution_count": 16,
   "metadata": {},
   "outputs": [
    {
     "data": {
      "text/plain": [
       "0"
      ]
     },
     "execution_count": 16,
     "metadata": {},
     "output_type": "execute_result"
    }
   ],
   "source": [
    "min(l)"
   ]
  },
  {
   "cell_type": "code",
   "execution_count": null,
   "metadata": {},
   "outputs": [],
   "source": [
    "if (n % 2) == 0:\n",
    "   print(\"{0} est Paire\".format(n))"
   ]
  },
  {
   "cell_type": "raw",
   "metadata": {},
   "source": [
    "(iii) Comptez le nombre d’éléments paires dans la liste L"
   ]
  },
  {
   "cell_type": "code",
   "execution_count": 24,
   "metadata": {},
   "outputs": [
    {
     "name": "stdout",
     "output_type": "stream",
     "text": [
      "[12, 42, 73, 1, 2, 0, 9, 21, 73, 4, 9] 5\n"
     ]
    }
   ],
   "source": [
    "n=0\n",
    "for i in range(len(L)):\n",
    "    if (L[i]%2==0) : n = n+1\n",
    "print(L, n)"
   ]
  },
  {
   "cell_type": "raw",
   "metadata": {},
   "source": [
    "(iv) Ajoutez à chaque élément de la liste L la valeur de l’élément suivant"
   ]
  },
  {
   "cell_type": "code",
   "execution_count": 19,
   "metadata": {},
   "outputs": [
    {
     "name": "stdout",
     "output_type": "stream",
     "text": [
      "[54, 115, 74, 3, 2, 9, 30, 94, 77, 13, 9]\n"
     ]
    }
   ],
   "source": [
    "l1 = l\n",
    "tmp = l1[0]\n",
    "for i in range(1,len(l1)):\n",
    "    l1[i-1] = l1[i-1] + l1[i]\n",
    "print(l1)"
   ]
  },
  {
   "cell_type": "code",
   "execution_count": 25,
   "metadata": {},
   "outputs": [
    {
     "name": "stdout",
     "output_type": "stream",
     "text": [
      "[54, 115, 74, 3, 2, 9, 30, 94, 77, 13, 9]\n"
     ]
    }
   ],
   "source": [
    "for i in range(len(L)-1):\n",
    "    L[i] = L[i]+L[i+1]\n",
    "print(L)"
   ]
  },
  {
   "cell_type": "raw",
   "metadata": {},
   "source": [
    "(v) Affichez les éléments qui apparaissent deux fois dans la liste L"
   ]
  },
  {
   "cell_type": "code",
   "execution_count": 26,
   "metadata": {},
   "outputs": [
    {
     "name": "stdout",
     "output_type": "stream",
     "text": [
      "L[8] == L[2] == 73\n",
      "L[10] == L[6] == 9\n"
     ]
    }
   ],
   "source": [
    "L = [12, 42, 73, 1, 2, 0, 9, 21, 73, 4, 9]\n",
    "for i in range(len(L)):\n",
    "    for j in range(len(L)):\n",
    "        if (L[i]==L[j] and i>j) : print(\"L[%d] == L[%d] == %d\" %(i,j,L[i]))"
   ]
  },
  {
   "cell_type": "raw",
   "metadata": {},
   "source": [
    "3°) Soit la liste "
   ]
  },
  {
   "cell_type": "code",
   "execution_count": 13,
   "metadata": {},
   "outputs": [],
   "source": [
    "L = list(range(100))"
   ]
  },
  {
   "cell_type": "raw",
   "metadata": {},
   "source": [
    "(i) Parcourez le contenu de la liste L pour chaque multiple de 3 affichez « fizz », pour chaque multiple de 5 affichez « buzz », pour chaque multiple de 3 et de 5 affichez « fizz-buzz » ; si l’élément n’est ni un multiple de 3 ni un multiple de 5, affichez sa valeur"
   ]
  },
  {
   "cell_type": "code",
   "execution_count": 27,
   "metadata": {
    "scrolled": true
   },
   "outputs": [
    {
     "name": "stdout",
     "output_type": "stream",
     "text": [
      "Fizz-Buzz\n",
      "1\n",
      "2\n",
      "Fizz\n",
      "4\n",
      "Buzz\n",
      "Fizz\n",
      "7\n",
      "8\n",
      "Fizz\n",
      "Buzz\n",
      "11\n",
      "Fizz\n",
      "13\n",
      "14\n",
      "Fizz-Buzz\n",
      "16\n",
      "17\n",
      "Fizz\n",
      "19\n",
      "Buzz\n",
      "Fizz\n",
      "22\n",
      "23\n",
      "Fizz\n",
      "Buzz\n",
      "26\n",
      "Fizz\n",
      "28\n",
      "29\n",
      "Fizz-Buzz\n",
      "31\n",
      "32\n",
      "Fizz\n",
      "34\n",
      "Buzz\n",
      "Fizz\n",
      "37\n",
      "38\n",
      "Fizz\n",
      "Buzz\n",
      "41\n",
      "Fizz\n",
      "43\n",
      "44\n",
      "Fizz-Buzz\n",
      "46\n",
      "47\n",
      "Fizz\n",
      "49\n",
      "Buzz\n",
      "Fizz\n",
      "52\n",
      "53\n",
      "Fizz\n",
      "Buzz\n",
      "56\n",
      "Fizz\n",
      "58\n",
      "59\n",
      "Fizz-Buzz\n",
      "61\n",
      "62\n",
      "Fizz\n",
      "64\n",
      "Buzz\n",
      "Fizz\n",
      "67\n",
      "68\n",
      "Fizz\n",
      "Buzz\n",
      "71\n",
      "Fizz\n",
      "73\n",
      "74\n",
      "Fizz-Buzz\n",
      "76\n",
      "77\n",
      "Fizz\n",
      "79\n",
      "Buzz\n",
      "Fizz\n",
      "82\n",
      "83\n",
      "Fizz\n",
      "Buzz\n",
      "86\n",
      "Fizz\n",
      "88\n",
      "89\n",
      "Fizz-Buzz\n",
      "91\n",
      "92\n",
      "Fizz\n",
      "94\n",
      "Buzz\n",
      "Fizz\n",
      "97\n",
      "98\n",
      "Fizz\n"
     ]
    }
   ],
   "source": [
    "L=list(range(100))\n",
    "for i in range(len(L)):\n",
    "    if (L[i]%3==0 and L[i]%5==0): print(\"Fizz-Buzz\")\n",
    "    elif (L[i]%3==0): print(\"Fizz\")\n",
    "    elif (L[i]%5==0): print(\"Buzz\")\n",
    "    else : print(L[i])\n"
   ]
  },
  {
   "cell_type": "raw",
   "metadata": {},
   "source": [
    "(ii) Modifiez le contenu de la liste L afin qu’elle contienne les 100 premiers entiers strictement positifs"
   ]
  },
  {
   "cell_type": "code",
   "execution_count": 28,
   "metadata": {},
   "outputs": [],
   "source": [
    "L=list(range(100))\n",
    "for i in range(len(L)):\n",
    "    L[i] = L[i]+1"
   ]
  },
  {
   "cell_type": "raw",
   "metadata": {},
   "source": [
    "(iii) Partant de la liste produite par le programme ci-dessus, remplacez les valeurs de L par la somme des n premiers nombres"
   ]
  },
  {
   "cell_type": "code",
   "execution_count": 29,
   "metadata": {},
   "outputs": [],
   "source": [
    "L=list(range(100))\n",
    "for i in range(len(L)):\n",
    "    L[i] = L[i]+1\n",
    "for i in range(len(L)):\n",
    "    if (i!=0) : L[i]=L[i]+L[i-1]"
   ]
  },
  {
   "cell_type": "raw",
   "metadata": {},
   "source": [
    "(iv) Faites apparaitre les éléments de la liste L qui sont des nombres premiers en \n",
    "appliquant remplaçant par None les valeurs qui appartiennent à la table des \n",
    "multiplications de 2 à 10. Cette technique s’appelle le « crible d’Erastothène » "
   ]
  },
  {
   "cell_type": "code",
   "execution_count": 30,
   "metadata": {},
   "outputs": [
    {
     "name": "stdout",
     "output_type": "stream",
     "text": [
      "[1, 2, 3, None, 5, None, 7, None, None, None, 11, None, 13, None, None, None, 17, None, 19, None, None, 22, 23, None, None, 26, None, None, 29, None, 31, None, 33, 34, None, None, 37, 38, 39, None, 41, None, 43, 44, None, 46, 47, None, None, None, 51, 52, 53, None, 55, None, 57, 58, 59, None, 61, 62, None, None, 65, 66, 67, 68, 69, None, 71, None, 73, 74, 75, 76, 77, 78, 79, None, None, 82, 83, 84, 85, 86, 87, 88, 89, None, 91, 92, 93, 94, 95, 96, 97, 98, 99, None]\n"
     ]
    }
   ],
   "source": [
    "L=list(range(1, 101))\n",
    "for i in range(2, 11):\n",
    "    for j in range(2, 11):\n",
    "        L[(i*j)-1]=None\n",
    "print(L)  \n"
   ]
  },
  {
   "cell_type": "code",
   "execution_count": null,
   "metadata": {},
   "outputs": [],
   "source": []
  }
 ],
 "metadata": {
  "kernelspec": {
   "display_name": "Python 3",
   "language": "python",
   "name": "python3"
  },
  "language_info": {
   "codemirror_mode": {
    "name": "ipython",
    "version": 3
   },
   "file_extension": ".py",
   "mimetype": "text/x-python",
   "name": "python",
   "nbconvert_exporter": "python",
   "pygments_lexer": "ipython3",
   "version": "3.7.1"
  }
 },
 "nbformat": 4,
 "nbformat_minor": 2
}
