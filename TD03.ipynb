{
 "cells": [
  {
   "cell_type": "raw",
   "metadata": {},
   "source": [
    "1°) Expérimentation sans l’ordinateur : soit la liste L = [12, 42, 73, 1, 2, 0, 9, 21, 73, 4, 9] quel est le contenu des listes ci-dessous ? "
   ]
  },
  {
   "cell_type": "code",
   "execution_count": 3,
   "metadata": {},
   "outputs": [],
   "source": [
    "L = [12, 42, 73, 1, 2, 0, 9, 21, 73, 4, 9]"
   ]
  },
  {
   "cell_type": "code",
   "execution_count": 5,
   "metadata": {},
   "outputs": [
    {
     "name": "stdout",
     "output_type": "stream",
     "text": [
      "L1 :  [1, 2, 0, 9, 21, 73, 4, 9]\n",
      "L2 :  [73, 1, 2, 0, 9, 21]\n",
      "L3 :  [12, 42, 73, 1, 2, 0, 9, 21, 73, 4, 9, 10]\n",
      "L4 :  [12, 42, 73, 1, 2, 0, 9, 21, 73, 4, 9, 9, 4, 73, 21, 9, 0, 2, 1, 73, 42, 12]\n",
      "L5 :  [[12, 42, 73, 1, 2, 0, 9, 21, 73, 4, 9], [1, 2, 0, 9, 21, 73, 4, 9], [73, 1, 2, 0, 9, 21]]\n",
      "L6 :  [8, 6, 12, 22, 3]\n",
      "L7 :  [True, True, False, False, True, True, False, False, False, True, False]\n",
      "L8 :  [4]\n",
      "L9 :  [[12, 73, 2, 9, 73, 9], [42, 1, 0, 21, 4]]\n",
      "L10 :  [42, 73, 1, 2, 0, 9, 21, 73, 4]\n"
     ]
    }
   ],
   "source": [
    "L1 = L[3:]\n",
    "print(\"L1 : \",L1)\n",
    "L2 = L[2:8]\n",
    "print(\"L2 : \",L2)\n",
    "L3 = L[:]+[10]\n",
    "print(\"L3 : \",L3)\n",
    "L4 = L[:]+L[::-1]\n",
    "print(\"L4 : \",L4)\n",
    "L5 = [L, L1, L2]\n",
    "print(\"L5 : \",L5)\n",
    "L6 = [len(L1), len(L2), len(L3), len(L4), len(L5)]\n",
    "print(\"L6 : \",L6)\n",
    "L7 = [e%2 == 0 for e in L]\n",
    "print(\"L7 : \",L7)\n",
    "L8 = L[-2:-1]\n",
    "print(\"L8 : \",L8)\n",
    "L9 = [L[::2], L[1::2]]\n",
    "print(\"L9 : \",L9)\n",
    "L10 = L[1:-1]\n",
    "print(\"L10 : \",L10)"
   ]
  },
  {
   "cell_type": "raw",
   "metadata": {},
   "source": [
    "2°) Déterminer -sans le taper, l’affichage produit par le code suivant :"
   ]
  },
  {
   "cell_type": "code",
   "execution_count": 6,
   "metadata": {},
   "outputs": [
    {
     "name": "stdout",
     "output_type": "stream",
     "text": [
      "[4, 3, 2, 1, 2, 3, 4]\n",
      "[4, 3, 2, 1, 2, 3, 4]\n"
     ]
    }
   ],
   "source": [
    "L1 = [4, 3, 2, 1]\n",
    "L2 = L1\n",
    "for i in range(3):\n",
    "    L2.append(i+2)\n",
    "print(L2)\n",
    "print(L1)\n"
   ]
  },
  {
   "cell_type": "raw",
   "metadata": {},
   "source": [
    "3°) Déterminer -sans le taper, l’affichage produit par le code suivant:"
   ]
  },
  {
   "cell_type": "code",
   "execution_count": 7,
   "metadata": {},
   "outputs": [
    {
     "name": "stdout",
     "output_type": "stream",
     "text": [
      "[0, -1, 2, 3, 4, 5, 6, 7, 8, 9, 10] [0, -1, 2, 3, 4, 5, 6, 7, 8, 9, 10] None [0, 1, 2, 3, 4, 5, 6, 7, 8, 9, 10, 11]\n"
     ]
    }
   ],
   "source": [
    "L=[i for i in range(10)]\n",
    "L1 = L\n",
    "L2 = L.append(10)\n",
    "L3 = L+[11]\n",
    "L[1]=-1\n",
    "print(L, L1, L2, L3)\n"
   ]
  },
  {
   "cell_type": "raw",
   "metadata": {},
   "source": [
    "Écrire un programme qui demande à l’utilisatrice un entier n puis qui construit et affiche une liste des entiers positifs divisibles par 3 et inférieurs ou égaux à n"
   ]
  },
  {
   "cell_type": "raw",
   "metadata": {},
   "source": [
    "Écrire un code qui:\n",
    "(i)\tAffiche la (ou les) positions d’un élément e = 7 dans une liste L = [9, 7, 3, 0, -1, 7, 8, 9, 3] \n"
   ]
  },
  {
   "cell_type": "code",
   "execution_count": 9,
   "metadata": {},
   "outputs": [
    {
     "name": "stdout",
     "output_type": "stream",
     "text": [
      "1\n",
      "5\n"
     ]
    }
   ],
   "source": [
    "e = 7\n",
    "L = [9, 7, 3, 0, -1, 7, 8, 9, 3]\n",
    "for i in range(len(L)):\n",
    "    if (e==L[i]): print(i)\n"
   ]
  },
  {
   "cell_type": "raw",
   "metadata": {},
   "source": [
    "(ii)\tPour chaque entier i inférieur à 10 créé un couple [i, [a, b, c, ….]] où [a, b, c, …] correspond aux positions de i dans la liste L =  [3, 2, 3, 1, 2, 0, 9, 9, 9, 2, 3]. Le résultat attendu, enregistré dans la liste R, est : [[0, [5]], [1, [3]], [2, [1, 4, 9]], [3, [0, 2, 10]], [4, []], [5, []], [6, []], [7, []], [8, []], [9, [6, 7, 8]]]\n"
   ]
  },
  {
   "cell_type": "code",
   "execution_count": 11,
   "metadata": {},
   "outputs": [
    {
     "data": {
      "text/plain": [
       "[[0, [5]],\n",
       " [1, [3]],\n",
       " [2, [1, 4, 9]],\n",
       " [3, [0, 2, 10]],\n",
       " [4, []],\n",
       " [5, []],\n",
       " [6, []],\n",
       " [7, []],\n",
       " [8, []],\n",
       " [9, [6, 7, 8]]]"
      ]
     },
     "execution_count": 11,
     "metadata": {},
     "output_type": "execute_result"
    }
   ],
   "source": [
    "L, R =  [3, 2, 3, 1, 2, 0, 9, 9, 9, 2, 3], []\n",
    "for i in range (10):\n",
    "    Temp = []\n",
    "    for j in range(len(L)):\n",
    "        if (L[j]==i) : Temp.append(j)\n",
    "    R.append([i, Temp])\n",
    "R"
   ]
  },
  {
   "cell_type": "raw",
   "metadata": {},
   "source": [
    "(iii)\tPour chaque élément e de L =  [3, 2, 3, 1, 2, 0, 9, 9, 9, 2, 3] créé un couple [e, [a, b, c, ….]] où [a, b, c, …] correspond aux positions de e dans la liste L. Le résultat attendu, enregistré dans la liste R est [[3, [0, 2, 10]], [2, [1, 4, 9]], [1, [3]], [0, [5]], [9, [6, 7, 8]]]\n",
    "\n"
   ]
  },
  {
   "cell_type": "code",
   "execution_count": 13,
   "metadata": {},
   "outputs": [
    {
     "data": {
      "text/plain": [
       "[[3, [0, 2, 10]], [2, [1, 4, 9]], [1, [3]], [0, [5]], [9, [6, 7, 8]]]"
      ]
     },
     "execution_count": 13,
     "metadata": {},
     "output_type": "execute_result"
    }
   ],
   "source": [
    "L, R =  [3, 2, 3, 1, 2, 0, 9, 9, 9, 2, 3], []\n",
    "for i in range(len(L)):\n",
    "    trouve=False\n",
    "    for e in R:\n",
    "        if (e[0]==L[i]):\n",
    "            trouve=True\n",
    "            e[1].append(i)\n",
    "    if (not trouve): R.append([L[i],[i]])\n",
    "R"
   ]
  },
  {
   "cell_type": "raw",
   "metadata": {},
   "source": [
    "Que fait le programme ci-dessous ?"
   ]
  },
  {
   "cell_type": "code",
   "execution_count": 14,
   "metadata": {},
   "outputs": [
    {
     "name": "stdout",
     "output_type": "stream",
     "text": [
      "2\n",
      "3\n",
      "5\n",
      "7\n",
      "11\n",
      "13\n",
      "17\n",
      "19\n",
      "23\n",
      "29\n",
      "31\n",
      "37\n",
      "41\n",
      "43\n",
      "47\n",
      "53\n",
      "59\n",
      "61\n",
      "67\n",
      "71\n",
      "73\n",
      "79\n",
      "83\n",
      "89\n",
      "97\n"
     ]
    }
   ],
   "source": [
    "L=[True]*101\n",
    "L[:2]=[False, False]\n",
    "for i in range(2,11) :\n",
    "    L[i*2::i]=[False]*len(L[i*2::i])\n",
    "\n",
    "for i in range(len(L)) :\n",
    "    if L[i] : print(i)\n"
   ]
  },
  {
   "cell_type": "code",
   "execution_count": null,
   "metadata": {},
   "outputs": [],
   "source": []
  }
 ],
 "metadata": {
  "kernelspec": {
   "display_name": "Python 3",
   "language": "python",
   "name": "python3"
  },
  "language_info": {
   "codemirror_mode": {
    "name": "ipython",
    "version": 3
   },
   "file_extension": ".py",
   "mimetype": "text/x-python",
   "name": "python",
   "nbconvert_exporter": "python",
   "pygments_lexer": "ipython3",
   "version": "3.7.1"
  }
 },
 "nbformat": 4,
 "nbformat_minor": 2
}
