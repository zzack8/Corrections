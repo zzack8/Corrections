{
 "cells": [
  {
   "cell_type": "raw",
   "metadata": {},
   "source": [
    "1°) Expérimentation sans l’ordinateur : que donnent les codes ci-dessous ? "
   ]
  },
  {
   "cell_type": "code",
   "execution_count": 1,
   "metadata": {},
   "outputs": [
    {
     "name": "stdout",
     "output_type": "stream",
     "text": [
      "3\n"
     ]
    }
   ],
   "source": [
    "def f() : print(3)\n",
    "f()\n"
   ]
  },
  {
   "cell_type": "code",
   "execution_count": 3,
   "metadata": {},
   "outputs": [
    {
     "name": "stdout",
     "output_type": "stream",
     "text": [
      "5\n"
     ]
    }
   ],
   "source": [
    "def f(): return 5\n",
    "print(f())"
   ]
  },
  {
   "cell_type": "code",
   "execution_count": 7,
   "metadata": {},
   "outputs": [
    {
     "name": "stdout",
     "output_type": "stream",
     "text": [
      "7\n"
     ]
    }
   ],
   "source": [
    "def f(n): return n\n",
    "print(f(7))"
   ]
  },
  {
   "cell_type": "code",
   "execution_count": 8,
   "metadata": {},
   "outputs": [
    {
     "name": "stdout",
     "output_type": "stream",
     "text": [
      "33\n"
     ]
    }
   ],
   "source": [
    "def f(n=33): return n\n",
    "print(f())"
   ]
  },
  {
   "cell_type": "code",
   "execution_count": 9,
   "metadata": {},
   "outputs": [
    {
     "name": "stdout",
     "output_type": "stream",
     "text": [
      "[0, 1, 4, 9, 16, 25, 36, 49, 64, 81]\n"
     ]
    }
   ],
   "source": [
    "def f(n=10): return [e**2 for e in range(n)]\n",
    "print(f())"
   ]
  },
  {
   "cell_type": "code",
   "execution_count": 10,
   "metadata": {},
   "outputs": [
    {
     "name": "stdout",
     "output_type": "stream",
     "text": [
      "[0, 1, 4]\n"
     ]
    }
   ],
   "source": [
    "def f(n=10): return [e**2 for e in range(n)]\n",
    "print(f(3))"
   ]
  },
  {
   "cell_type": "code",
   "execution_count": 11,
   "metadata": {},
   "outputs": [
    {
     "name": "stdout",
     "output_type": "stream",
     "text": [
      "[]\n"
     ]
    }
   ],
   "source": [
    "def f(n=10): return [e**2 for e in range(n)]\n",
    "print(f(-10))"
   ]
  },
  {
   "cell_type": "code",
   "execution_count": 15,
   "metadata": {},
   "outputs": [
    {
     "name": "stdout",
     "output_type": "stream",
     "text": [
      "[0, 1, 4]\n"
     ]
    }
   ],
   "source": [
    "def f(n=10, m=2): return [e**m for e in range(n)]\n",
    "print(f(3, 2))"
   ]
  },
  {
   "cell_type": "code",
   "execution_count": 17,
   "metadata": {},
   "outputs": [
    {
     "name": "stdout",
     "output_type": "stream",
     "text": [
      "[0, 1]\n"
     ]
    }
   ],
   "source": [
    "def f(n=10, m=2): return [e**m for e in range(n)]\n",
    "print(f(m=3, n=2)) "
   ]
  },
  {
   "cell_type": "code",
   "execution_count": 18,
   "metadata": {},
   "outputs": [
    {
     "name": "stdout",
     "output_type": "stream",
     "text": [
      "[1, 1, 1, 1, 1, 1, 1, 1, 1, 1]\n"
     ]
    }
   ],
   "source": [
    "def f(n=10, m=2): return [e**m for e in range(n)] \n",
    "print(f(m=0))"
   ]
  },
  {
   "cell_type": "raw",
   "metadata": {},
   "source": [
    "2°) Déterminer, sans le taper l’affichage produit par le code suivant :"
   ]
  },
  {
   "cell_type": "code",
   "execution_count": 21,
   "metadata": {},
   "outputs": [
    {
     "name": "stdout",
     "output_type": "stream",
     "text": [
      "2\n",
      "5\n",
      "9\n"
     ]
    }
   ],
   "source": [
    "def bar(x, y):\n",
    "    if x == y:\n",
    "        return 2\n",
    "    else:\n",
    "        return x + y \n",
    "print(bar(2, 2))\n",
    "print(bar(3, 2))\n",
    "print(bar(4, 5))"
   ]
  },
  {
   "cell_type": "raw",
   "metadata": {},
   "source": [
    "3°) Déterminer, sans le taper l’affichage produit par le code suivant :"
   ]
  },
  {
   "cell_type": "code",
   "execution_count": 22,
   "metadata": {},
   "outputs": [
    {
     "name": "stdout",
     "output_type": "stream",
     "text": [
      "(4, 0)\n",
      "6.5 1.5\n"
     ]
    }
   ],
   "source": [
    "def pouic(x, y):\n",
    "    return x + y, x - y\n",
    "print(pouic(2, 2))\n",
    "a, b = pouic(4, 2.5)\n",
    "print(a, b)"
   ]
  },
  {
   "cell_type": "raw",
   "metadata": {},
   "source": [
    "4°) Écrire une fonction python prenant trois paramètres, une liste l, et deux valeurs numériques a et b. La fonction doit renvoyer une liste contenant deux listes, la première constituée des éléments de L qui ne sont pas dans l’intervalle [a, b] et la seconde des éléments de L qui sont dans l’intervalle [a, b]. Par exemple si on donne à la fonction la liste[1, 2, -2, 4, 3, 5]et les valeurs a=1,5 et b=3, on doit recevoir comme résultat la liste [[1,-2, 4, 5], [2, 3]]. "
   ]
  },
  {
   "cell_type": "code",
   "execution_count": 23,
   "metadata": {},
   "outputs": [
    {
     "name": "stdout",
     "output_type": "stream",
     "text": [
      "[[1, -2, 4, 5], [2, 3]]\n"
     ]
    }
   ],
   "source": [
    "def f(L, i, j):\n",
    "    L1, L2 = [], []\n",
    "    for e in L:\n",
    "        if (e>=i and e<=j):\n",
    "            L2 += [e]\n",
    "        else:\n",
    "            L1 += [e]\n",
    "    return [L1, L2]\n",
    "\n",
    "print(f([1, 2, -2, 4, 3, 5], 1.5, 3))\n"
   ]
  },
  {
   "cell_type": "raw",
   "metadata": {},
   "source": [
    "5°) Ecrire (i) une fonction qui permute les éléments en position i et j dans une liste L, puis (ii) une fonction de tri. Pour le tri, on implémentera l’algorithme de tri-bulle : parcourir la liste à trier en permutant les deux valeurs consécutives si elles ne sont pas correctement ordonnées de manière croissante. Répéter cette opération autant de fois qu’il y a d’éléments dans la liste"
   ]
  },
  {
   "cell_type": "code",
   "execution_count": 25,
   "metadata": {},
   "outputs": [],
   "source": [
    "def permute(L, i, j) :\n",
    "    L[i],L[j]=L[j],L[i]\n",
    "\n",
    "def triBulle(L):\n",
    "    for i in range(len(L)):\n",
    "        for i in range(0, len(L)-1):\n",
    "            if (L[i]>L[i+1]) : permute(L,i,i+1)\n",
    "    return L"
   ]
  },
  {
   "cell_type": "code",
   "execution_count": null,
   "metadata": {},
   "outputs": [],
   "source": []
  }
 ],
 "metadata": {
  "kernelspec": {
   "display_name": "Python 3",
   "language": "python",
   "name": "python3"
  },
  "language_info": {
   "codemirror_mode": {
    "name": "ipython",
    "version": 3
   },
   "file_extension": ".py",
   "mimetype": "text/x-python",
   "name": "python",
   "nbconvert_exporter": "python",
   "pygments_lexer": "ipython3",
   "version": "3.7.1"
  }
 },
 "nbformat": 4,
 "nbformat_minor": 2
}
