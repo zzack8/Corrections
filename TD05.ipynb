{
 "cells": [
  {
   "cell_type": "raw",
   "id": "6de59f5a",
   "metadata": {},
   "source": [
    "(i)\tla fonction til(L, max) renvoie vrai si tous les éléments de la liste L passée en argument ont une valeur inférieure ou égale à l’argument m\n",
    "(ii) la fonction sl(L) renvoie la somme des éléments d’une liste L\n",
    "(iii) la fonction M(n) renvoie une matrice carrée de taille n (n lignes et n colonnes) dont les valeurs sont saisies par l’utilisateur \n",
    "(iv) la fonction pm(M) affiche la matrice M (représentée comme une liste de listes) ligne par ligne\n",
    "(v)\tla fonction pl(M) « aplatit » la liste de listes passée en argument, c’est-à-dire renvoie une liste plate contenant tous les éléments contenus dans les listes qui constituent M\n"
   ]
  },
  {
   "cell_type": "raw",
   "id": "e90736ac",
   "metadata": {},
   "source": [
    "2°) Écrire une fonction td(L) qui renvoie True si tous les éléments de la liste L sont strictement différents, et False sinon. "
   ]
  },
  {
   "cell_type": "code",
   "execution_count": 19,
   "id": "6326956f",
   "metadata": {},
   "outputs": [],
   "source": [
    "def td(L): \n",
    "    t=[]\n",
    "    for e in L:\n",
    "        if (not e in t) :\n",
    "            t.append(e)\n",
    "        else : return False\n",
    "    return True"
   ]
  },
  {
   "cell_type": "code",
   "execution_count": 21,
   "id": "555d83c5",
   "metadata": {},
   "outputs": [
    {
     "data": {
      "text/plain": [
       "True"
      ]
     },
     "execution_count": 21,
     "metadata": {},
     "output_type": "execute_result"
    }
   ],
   "source": [
    "td([2,3,5,4,9])"
   ]
  },
  {
   "cell_type": "raw",
   "id": "83598e73",
   "metadata": {},
   "source": [
    "3) Écrire une fonction ti(M, max) qui renvoie Vrai si tous les éléments de la matrice M sont inférieurs ou égaux à la valeur max. ; Par exemple ti([[5, 3, 2], [5, 2, 9], [10, 11, 12]], 12) renvoie True, alors que ti([[3, 1, 2], [10, 2, 4], [5, 7, 6]], 9) doit renvoyer False"
   ]
  },
  {
   "cell_type": "code",
   "execution_count": 28,
   "id": "431ce633",
   "metadata": {},
   "outputs": [
    {
     "data": {
      "text/plain": [
       "False"
      ]
     },
     "execution_count": 28,
     "metadata": {},
     "output_type": "execute_result"
    }
   ],
   "source": [
    "def ti(M, max): \n",
    "    for l in M:\n",
    "        for elt in l:\n",
    "            if elt > max:\n",
    "                return False\n",
    "    return True\n",
    "ti([[3, 1, 2], [10, 2, 4], [5, 7, 6]], 9)"
   ]
  },
  {
   "cell_type": "raw",
   "id": "d864e926",
   "metadata": {},
   "source": [
    "4°) Écrire une fonction diag(M) qui envoie une liste composée des deux diagonales de la matrice carrée M. Par exemple diag([[5, 3, 2], [5, 2, 9], [10, 11, 12]]) renvoie [[5, 2, 12],[2, 2, 10]],"
   ]
  },
  {
   "cell_type": "code",
   "execution_count": 31,
   "id": "1c13abbf",
   "metadata": {},
   "outputs": [
    {
     "data": {
      "text/plain": [
       "[[5, 2, 12], [2, 2, 10]]"
      ]
     },
     "execution_count": 31,
     "metadata": {},
     "output_type": "execute_result"
    }
   ],
   "source": [
    "def diag(M): # liste des deux diagonales d'une matrice carrée\n",
    "    d1, d2 = [], []\n",
    "    for i in range(len(M)):\n",
    "        d1.append(M[i][i])\n",
    "        d2.append(M[i][-i-1])\n",
    "    return [d1,d2]\n",
    "diag([[5, 3, 2], [5, 2, 9], [10, 11, 12]])"
   ]
  },
  {
   "cell_type": "raw",
   "id": "0410b510",
   "metadata": {},
   "source": [
    "5°) Écrire une fonction inv(M) qui renvoie une matrice inverse la matrice carrée M passée en argument. Les lignes de la matrice résultat doit correspondre aux colonnes de M, et respectivement. Par exemple in inv([[5, 3, 2], [5, 2, 9], [10, 11, 12]]) renvoie [[5, 5, 10], [3, 2, 11], [2, 9, 12]]"
   ]
  },
  {
   "cell_type": "code",
   "execution_count": 34,
   "id": "30df4512",
   "metadata": {},
   "outputs": [
    {
     "data": {
      "text/plain": [
       "[[5, 5, 10], [3, 2, 11], [2, 9, 12]]"
      ]
     },
     "execution_count": 34,
     "metadata": {},
     "output_type": "execute_result"
    }
   ],
   "source": [
    "def inv(M): \n",
    "    c=[]\n",
    "    for i in range(len(M)):\n",
    "        l = []\n",
    "        for elt in M:\n",
    "            l.append(elt[i])\n",
    "        c.append(l)\n",
    "    return c\n",
    "inv([[5, 3, 2], [5, 2, 9], [10, 11, 12]])"
   ]
  },
  {
   "cell_type": "raw",
   "id": "d54bb092",
   "metadata": {},
   "source": [
    "# 6°) Écrire une fonction cm(M) qui renvoie True si l’argument M est un carré magique, et False sinon. Pour être un carré magique, M doit :\n",
    "•\tÊtre une matrice carrée (c’est-à-dire de taille (n x n)) ;\n",
    "•\tNe pas contenir deux fois la même valeur ;\n",
    "•\tNe contenir que des valeurs inférieures ou égales à n puissance 2 (où n est la taille de la matrice) ;\n",
    "•\tÊtre telle que la somme des lignes, des colonnes et des diagonales sont toutes égales à une valeur unique (appelée la « constante magique »)\n"
   ]
  },
  {
   "cell_type": "code",
   "execution_count": 43,
   "id": "caadd11a",
   "metadata": {},
   "outputs": [],
   "source": [
    "def sl(L): \n",
    "    r=0\n",
    "    for e in L :   r+=e\n",
    "    return r\n",
    "\n",
    "def pl (M):\n",
    "    r = []\n",
    "    for l in M :\n",
    "        for e in l :\n",
    "            r.append(e)\n",
    "    return r\n",
    "\n",
    "def cm(M):\n",
    "    # on vérifie que M est un matrice carrée n x n\n",
    "    n = len(M)\n",
    "    for l in M :\n",
    "        if(len(l) != n) : return False\n",
    "    \n",
    "    # on vérifie que M ne contient pas deux fois la même valeur\n",
    "    if (not td(pl(M))) : return False\n",
    "\n",
    "    # on vérifie que les valeurs des éléments de M sont <= n^2 \n",
    "    if (not ti(M, n**2)) : return False\n",
    "\n",
    "    # on calcule le nombre magique\n",
    "    nm = sl(M[0])\n",
    "    print(\"nombre magique:\", nm)\n",
    "    \n",
    "    # on vérifie les lignes\n",
    "    for l in M:\n",
    "        if (sl(l)!= nm):\n",
    "            print(l)\n",
    "            return False\n",
    "        \n",
    "    # on vérifie les colonnes en inversant la matrice\n",
    "    M2 = inv(M)\n",
    "    for l in M2:\n",
    "        if (sl(l) != nm): return False\n",
    "        \n",
    "    # on vérifie les diagonales\n",
    "    d = diag(M)\n",
    "    if ((sl(d[0]) != nm) or (sl(d[1]) != nm)) : return False\n",
    "    \n",
    "    # Tous les tests ont été passés avec succès, M est donc un carré magique\n",
    "    return True\n"
   ]
  },
  {
   "cell_type": "code",
   "execution_count": 44,
   "id": "9f913ce2",
   "metadata": {},
   "outputs": [
    {
     "name": "stdout",
     "output_type": "stream",
     "text": [
      "nombre magique: 15\n"
     ]
    },
    {
     "data": {
      "text/plain": [
       "True"
      ]
     },
     "execution_count": 44,
     "metadata": {},
     "output_type": "execute_result"
    }
   ],
   "source": [
    "cm([[2, 7, 6], [9, 5, 1], [4, 3, 8]])"
   ]
  },
  {
   "cell_type": "code",
   "execution_count": 45,
   "id": "968f6ef2",
   "metadata": {},
   "outputs": [
    {
     "data": {
      "text/plain": [
       "False"
      ]
     },
     "execution_count": 45,
     "metadata": {},
     "output_type": "execute_result"
    }
   ],
   "source": [
    "cm([[2, 6], [9, 5, 1, 4], [3, 3, 8]])"
   ]
  },
  {
   "cell_type": "code",
   "execution_count": 46,
   "id": "2c153cd4",
   "metadata": {},
   "outputs": [
    {
     "data": {
      "text/plain": [
       "False"
      ]
     },
     "execution_count": 46,
     "metadata": {},
     "output_type": "execute_result"
    }
   ],
   "source": [
    "cm([[2, 7, 6], [7, 2, 6], [6, 7, 2]])"
   ]
  },
  {
   "cell_type": "code",
   "execution_count": null,
   "id": "30d805b4",
   "metadata": {},
   "outputs": [],
   "source": []
  }
 ],
 "metadata": {
  "kernelspec": {
   "display_name": "Python 3",
   "language": "python",
   "name": "python3"
  },
  "language_info": {
   "codemirror_mode": {
    "name": "ipython",
    "version": 3
   },
   "file_extension": ".py",
   "mimetype": "text/x-python",
   "name": "python",
   "nbconvert_exporter": "python",
   "pygments_lexer": "ipython3",
   "version": "3.8.8"
  }
 },
 "nbformat": 4,
 "nbformat_minor": 5
}
